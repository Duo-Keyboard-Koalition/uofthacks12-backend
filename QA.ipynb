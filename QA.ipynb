{
 "cells": [
  {
   "cell_type": "code",
   "execution_count": 2,
   "metadata": {},
   "outputs": [
    {
     "data": {
      "text/plain": [
       "1536"
      ]
     },
     "execution_count": 2,
     "metadata": {},
     "output_type": "execute_result"
    }
   ],
   "source": [
    "import os\n",
    "from openai import OpenAI\n",
    "import dotenv\n",
    "# get current dir\n",
    "dir_path = os.getcwd()\n",
    "dotenv.load_dotenv(os.path.join(dir_path, \".env\"))\n",
    "openai_client = OpenAI(api_key=os.getenv(\"OPENAI_API_KEY\"))\n",
    "os.getenv(\"OPENAI_API_KEY\")\n",
    "# Get embeddings\n",
    "response = openai_client.embeddings.create(\n",
    "    input=\"question.QuestionAnswer,\",\n",
    "    model=\"text-embedding-ada-002\"\n",
    ")\n",
    "vector = response.data[0].embedding\n",
    "len(vector)"
   ]
  },
  {
   "cell_type": "code",
   "execution_count": 3,
   "metadata": {},
   "outputs": [
    {
     "name": "stdout",
     "output_type": "stream",
     "text": [
      "Collecting ollama\n",
      "  Downloading ollama-0.4.6-py3-none-any.whl (13 kB)\n",
      "Collecting httpx<0.28.0,>=0.27.0 (from ollama)\n",
      "  Downloading httpx-0.27.2-py3-none-any.whl (76 kB)\n",
      "\u001b[2K     \u001b[90m━━━━━━━━━━━━━━━━━━━━━━━━━━━━━━━━━━━━━━━━\u001b[0m \u001b[32m76.4/76.4 kB\u001b[0m \u001b[31m3.3 MB/s\u001b[0m eta \u001b[36m0:00:00\u001b[0m\n",
      "\u001b[?25hRequirement already satisfied: pydantic<3.0.0,>=2.9.0 in ./venv/lib/python3.11/site-packages (from ollama) (2.10.5)\n",
      "Requirement already satisfied: anyio in ./venv/lib/python3.11/site-packages (from httpx<0.28.0,>=0.27.0->ollama) (4.8.0)\n",
      "Requirement already satisfied: certifi in ./venv/lib/python3.11/site-packages (from httpx<0.28.0,>=0.27.0->ollama) (2024.12.14)\n",
      "Requirement already satisfied: httpcore==1.* in ./venv/lib/python3.11/site-packages (from httpx<0.28.0,>=0.27.0->ollama) (1.0.7)\n",
      "Requirement already satisfied: idna in ./venv/lib/python3.11/site-packages (from httpx<0.28.0,>=0.27.0->ollama) (3.10)\n",
      "Requirement already satisfied: sniffio in ./venv/lib/python3.11/site-packages (from httpx<0.28.0,>=0.27.0->ollama) (1.3.1)\n",
      "Requirement already satisfied: h11<0.15,>=0.13 in ./venv/lib/python3.11/site-packages (from httpcore==1.*->httpx<0.28.0,>=0.27.0->ollama) (0.14.0)\n",
      "Requirement already satisfied: annotated-types>=0.6.0 in ./venv/lib/python3.11/site-packages (from pydantic<3.0.0,>=2.9.0->ollama) (0.7.0)\n",
      "Requirement already satisfied: pydantic-core==2.27.2 in ./venv/lib/python3.11/site-packages (from pydantic<3.0.0,>=2.9.0->ollama) (2.27.2)\n",
      "Requirement already satisfied: typing-extensions>=4.12.2 in ./venv/lib/python3.11/site-packages (from pydantic<3.0.0,>=2.9.0->ollama) (4.12.2)\n",
      "Installing collected packages: httpx, ollama\n",
      "  Attempting uninstall: httpx\n",
      "    Found existing installation: httpx 0.28.1\n",
      "    Uninstalling httpx-0.28.1:\n",
      "      Successfully uninstalled httpx-0.28.1\n",
      "Successfully installed httpx-0.27.2 ollama-0.4.6\n",
      "\n",
      "\u001b[1m[\u001b[0m\u001b[34;49mnotice\u001b[0m\u001b[1;39;49m]\u001b[0m\u001b[39;49m A new release of pip is available: \u001b[0m\u001b[31;49m23.1.2\u001b[0m\u001b[39;49m -> \u001b[0m\u001b[32;49m24.3.1\u001b[0m\n",
      "\u001b[1m[\u001b[0m\u001b[34;49mnotice\u001b[0m\u001b[1;39;49m]\u001b[0m\u001b[39;49m To update, run: \u001b[0m\u001b[32;49mpip install --upgrade pip\u001b[0m\n"
     ]
    }
   ],
   "source": [
    "# dotenv.load_dotenv()\n",
    "!pip install ollama"
   ]
  },
  {
   "cell_type": "code",
   "execution_count": 5,
   "metadata": {},
   "outputs": [],
   "source": [
    "import ollama\n",
    "vector = ollama.embeddings(\n",
    "  model='mxbai-embed-large',\n",
    "  prompt='Llamas are members of the camelid family',\n",
    ")"
   ]
  },
  {
   "cell_type": "code",
   "execution_count": 6,
   "metadata": {},
   "outputs": [
    {
     "data": {
      "text/plain": [
       "1024"
      ]
     },
     "execution_count": 6,
     "metadata": {},
     "output_type": "execute_result"
    }
   ],
   "source": [
    "len(vector.embedding)"
   ]
  },
  {
   "cell_type": "code",
   "execution_count": 7,
   "metadata": {},
   "outputs": [],
   "source": [
    "sample_qa_data = [\n",
    "    {\n",
    "        \"UserID\": \"user_001\",\n",
    "        \"QuestionAsked\": \"Tell me about yourself\",\n",
    "        \"QuestionAnswer\": \"I'm a software engineer with 5 years of experience in full-stack development. I specialize in Python and JavaScript, and I'm passionate about building scalable web applications. In my free time, I contribute to open-source projects and mentor junior developers.\"\n",
    "    },\n",
    "    {\n",
    "        \"UserID\": \"user_002\",\n",
    "        \"QuestionAsked\": \"Tell me about yourself\",\n",
    "        \"QuestionAnswer\": \"I'm a recent graduate from the University of Toronto with a degree in Computer Science. I'm particularly interested in machine learning and have completed several projects in natural language processing. I'm eager to apply my theoretical knowledge in a practical setting.\"\n",
    "    },\n",
    "    {\n",
    "        \"UserID\": \"user_003\",\n",
    "        \"QuestionAsked\": \"Tell me about yourself\",\n",
    "        \"QuestionAnswer\": \"I'm a creative professional with a background in both design and development. Having worked on numerous UI/UX projects, I bridge the gap between aesthetic appeal and technical functionality. I believe in user-centered design and creating intuitive experiences.\"\n",
    "    },\n",
    "    {\n",
    "        \"UserID\": \"user_004\",\n",
    "        \"QuestionAsked\": \"Tell me about yourself\",\n",
    "        \"QuestionAnswer\": \"I'm a data scientist with expertise in statistical analysis and predictive modeling. My work focuses on turning complex data into actionable insights. I have experience with Python, R, and various machine learning frameworks. I'm currently exploring deep learning applications in healthcare.\"\n",
    "    },\n",
    "    {\n",
    "        \"UserID\": \"user_005\",\n",
    "        \"QuestionAsked\": \"Tell me about yourself\",\n",
    "        \"QuestionAnswer\": \"I'm an entrepreneurial-minded product manager with a track record of launching successful tech products. I combine my technical background with strong business acumen to drive product strategy and execution. I'm passionate about solving real-world problems through technology.\"\n",
    "    },\n",
    "    {\n",
    "        \"UserID\": \"user_006\",\n",
    "        \"QuestionAsked\": \"Tell me about yourself\",\n",
    "        \"QuestionAnswer\": \"I'm a cybersecurity specialist focused on network security and threat detection. With certifications in CISSP and CEH, I help organizations protect their digital assets. I regularly participate in bug bounty programs and security conferences to stay current with emerging threats.\"\n",
    "    },\n",
    "    {\n",
    "        \"UserID\": \"user_007\",\n",
    "        \"QuestionAsked\": \"Tell me about yourself\",\n",
    "        \"QuestionAnswer\": \"I'm a DevOps engineer specializing in cloud infrastructure and automation. I work with AWS, Docker, and Kubernetes to build and maintain scalable systems. I'm passionate about implementing CI/CD pipelines and improving deployment efficiency.\"\n",
    "    },\n",
    "    {\n",
    "        \"UserID\": \"user_008\",\n",
    "        \"QuestionAsked\": \"Tell me about yourself\",\n",
    "        \"QuestionAnswer\": \"I'm a mobile app developer with expertise in both iOS and Android development. I've published several apps with over 1M+ downloads combined. I enjoy creating intuitive mobile experiences that solve everyday problems.\"\n",
    "    }\n",
    "]\n",
    "\n",
    "# If you need to save this to a file:\n",
    "import json\n",
    "\n",
    "with open('sample_qa_data.json', 'w') as f:\n",
    "    json.dump(sample_qa_data, f, indent=4)"
   ]
  },
  {
   "cell_type": "code",
   "execution_count": 86,
   "metadata": {},
   "outputs": [],
   "source": [
    "import requests\n",
    "import json\n",
    "from datetime import datetime\n",
    "\n",
    "# API endpoint\n",
    "url = \"http://localhost:8000/question\"\n",
    "\n",
    "# Sample payload\n",
    "question_data = {\n",
    "    \"UserID\": \"test_user_123\",\n",
    "    \"QuestionAsked\": \"What is machine learning?\",\n",
    "    \"QuestionAnswer\": \"Machine learning is owo\"\n",
    "}\n",
    "def add_question(question_data):\n",
    "    try:\n",
    "        # Make POST request\n",
    "        response = requests.post(\n",
    "            url,\n",
    "            json=question_data,\n",
    "            headers={\"Content-Type\": \"application/json\"}\n",
    "        )\n",
    "        \n",
    "        # Check response\n",
    "        print(f\"Status Code: {response.status_code}\")\n",
    "        print(\"\\nResponse:\")\n",
    "        print(json.dumps(response.json(), indent=2))\n",
    "        \n",
    "    except requests.exceptions.RequestException as e:\n",
    "        print(f\"Error: {e}\")"
   ]
  },
  {
   "cell_type": "code",
   "execution_count": 87,
   "metadata": {},
   "outputs": [
    {
     "name": "stdout",
     "output_type": "stream",
     "text": [
      "Status Code: 200\n",
      "\n",
      "Response:\n",
      "{\n",
      "  \"status\": \"success\",\n",
      "  \"id\": \"test_user_123\",\n",
      "  \"question\": {\n",
      "    \"userId\": \"test_user_123\",\n",
      "    \"questionAsked\": \"What is machine learning?\",\n",
      "    \"answer\": \"Machine learning is owo\",\n",
      "    \"timestamp\": \"2025-01-18T19:23:06.224975Z\"\n",
      "  }\n",
      "}\n"
     ]
    }
   ],
   "source": [
    "add_question(question_data)"
   ]
  },
  {
   "cell_type": "code",
   "execution_count": 47,
   "metadata": {},
   "outputs": [
    {
     "name": "stdout",
     "output_type": "stream",
     "text": [
      "Status Code: 200\n",
      "[{'id': '4642af9c-ccdc-4839-a5e3-e6e82ae0e693', 'score': 0.919533968, 'metadata': {'answer': 'Machine learning is a branch of artificial intelligence (AI) and computer science.', 'question': 'What is machine learning?', 'timestamp': '2025-01-18T14:42:46.491749+00:00', 'userId': 'test_user_123'}}]\n"
     ]
    }
   ],
   "source": [
    "question_data = {\n",
    "    \"UserID\": \"test_user_123\",\n",
    "    \"QuestionAsked\": \"What is machine learning?\",\n",
    "    \"QuestionAnswer\": \"Machine learning is\"\n",
    "}\n",
    "\n",
    "url = \"http://localhost:8000/query\"\n",
    "\n",
    "response = requests.post(\n",
    "    url,\n",
    "    json=question_data,\n",
    "    headers={\"Content-Type\": \"application/json\"}\n",
    ")\n",
    "print(f\"Status Code: {response.status_code}\")\n",
    "print(response.json())\n",
    "# print(json.dumps(response.json(), indent=2))"
   ]
  },
  {
   "cell_type": "code",
   "execution_count": 80,
   "metadata": {},
   "outputs": [],
   "source": [
    "url = \"http://localhost:8000\"\n",
    "\n",
    "import matplotlib.pyplot as plt\n",
    "import numpy as np"
   ]
  },
  {
   "cell_type": "code",
   "execution_count": 85,
   "metadata": {},
   "outputs": [
    {
     "name": "stdout",
     "output_type": "stream",
     "text": [
      "Status Code: 200\n",
      "{'status': 'success', 'message': 'Entry updated successfully'}\n"
     ]
    }
   ],
   "source": [
    "question_data = {\n",
    "    \"UserID\": \"user_002\",\n",
    "    \"QuestionAsked\": \"What is machine learning?\",\n",
    "    \"QuestionAnswer\": \"Machine learning is\"\n",
    "}\n",
    "\n",
    "response = requests.put(\n",
    "    url=url + \"/update_question\",\n",
    "    json=question_data,\n",
    "    headers={\"Content-Type\": \"application/json\"}\n",
    ")\n",
    "print(f\"Status Code: {response.status_code}\")\n",
    "print(response.json())"
   ]
  },
  {
   "cell_type": "code",
   "execution_count": 79,
   "metadata": {},
   "outputs": [
    {
     "name": "stdout",
     "output_type": "stream",
     "text": [
      "Status Code: 200\n",
      "{'embeddings_2d': [[-14.565351486206055, -9.99742317199707], [-14.188021659851074, -8.947185516357422], [-16.013031005859375, -9.450959205627441], [-14.965850830078125, -9.029439926147461], [-15.421392440795898, -10.321355819702148], [-14.70980453491211, -8.18551254272461], [-16.288471221923828, -8.733274459838867], [-15.548324584960938, -8.413893699645996]]}\n"
     ]
    },
    {
     "ename": "TypeError",
     "evalue": "unhashable type: 'slice'",
     "output_type": "error",
     "traceback": [
      "\u001b[0;31m---------------------------------------------------------------------------\u001b[0m",
      "\u001b[0;31mTypeError\u001b[0m                                 Traceback (most recent call last)",
      "Cell \u001b[0;32mIn[79], line 11\u001b[0m\n\u001b[1;32m      9\u001b[0m \u001b[38;5;66;03m# Plot points\u001b[39;00m\n\u001b[1;32m     10\u001b[0m plt\u001b[38;5;241m.\u001b[39mfigure(figsize\u001b[38;5;241m=\u001b[39m(\u001b[38;5;241m12\u001b[39m, \u001b[38;5;241m8\u001b[39m))\n\u001b[0;32m---> 11\u001b[0m plt\u001b[38;5;241m.\u001b[39mscatter(\u001b[43membeddings_2d\u001b[49m\u001b[43m[\u001b[49m\u001b[43m:\u001b[49m\u001b[43m,\u001b[49m\u001b[43m \u001b[49m\u001b[38;5;241;43m0\u001b[39;49m\u001b[43m]\u001b[49m, embeddings_2d[:, \u001b[38;5;241m1\u001b[39m], alpha\u001b[38;5;241m=\u001b[39m\u001b[38;5;241m0.5\u001b[39m)\n\u001b[1;32m     13\u001b[0m \u001b[38;5;66;03m# # Connect similar points\u001b[39;00m\n\u001b[1;32m     14\u001b[0m \u001b[38;5;66;03m# similarity_threshold = 0.8\u001b[39;00m\n\u001b[1;32m     15\u001b[0m \u001b[38;5;66;03m# for i, vec in enumerate(vectors):\u001b[39;00m\n\u001b[0;32m   (...)\u001b[0m\n\u001b[1;32m     21\u001b[0m \u001b[38;5;66;03m#                     [embeddings_2d[i, 1], embeddings_2d[j, 1]],\u001b[39;00m\n\u001b[1;32m     22\u001b[0m \u001b[38;5;66;03m#                     'k-', alpha=0.1)\u001b[39;00m\n\u001b[1;32m     24\u001b[0m plt\u001b[38;5;241m.\u001b[39mtitle(\u001b[38;5;124m\"\u001b[39m\u001b[38;5;124mVector Similarity Visualization\u001b[39m\u001b[38;5;124m\"\u001b[39m)\n",
      "\u001b[0;31mTypeError\u001b[0m: unhashable type: 'slice'"
     ]
    },
    {
     "data": {
      "text/plain": [
       "<Figure size 1200x800 with 0 Axes>"
      ]
     },
     "metadata": {},
     "output_type": "display_data"
    }
   ],
   "source": [
    "\n",
    "response = requests.get(\n",
    "    url=url + \"/visualize\",\n",
    "    headers={\"Content-Type\": \"application/json\"}\n",
    ")\n",
    "print(f\"Status Code: {response.status_code}\")\n",
    "print(response.json())\n",
    "embeddings_2d = np.array(response.json())\n",
    "\n",
    "# Plot points\n",
    "plt.figure(figsize=(12, 8))\n",
    "plt.scatter(embeddings_2d[:, 0], embeddings_2d[:, 1], alpha=0.5)\n",
    "\n",
    "# # Connect similar points\n",
    "# similarity_threshold = 0.8\n",
    "# for i, vec in enumerate(vectors):\n",
    "#     results = pinecone_client.Index(pinecone_index).query(vector=vec.tolist(), top_k=10, include_values=True)\n",
    "#     for match in results['matches']:\n",
    "#         if match['score'] > similarity_threshold and match['id'] != ids[i]:\n",
    "#             j = ids.index(match['id'])\n",
    "#             plt.plot([embeddings_2d[i, 0], embeddings_2d[j, 0]],\n",
    "#                     [embeddings_2d[i, 1], embeddings_2d[j, 1]],\n",
    "#                     'k-', alpha=0.1)\n",
    "\n",
    "plt.title(\"Vector Similarity Visualization\")\n",
    "plt.xlabel(\"UMAP Dimension 1\")\n",
    "plt.ylabel(\"UMAP Dimension 2\")\n",
    "# plt.show()\n"
   ]
  }
 ],
 "metadata": {
  "kernelspec": {
   "display_name": "uofthacks12",
   "language": "python",
   "name": "python3"
  },
  "language_info": {
   "codemirror_mode": {
    "name": "ipython",
    "version": 3
   },
   "file_extension": ".py",
   "mimetype": "text/x-python",
   "name": "python",
   "nbconvert_exporter": "python",
   "pygments_lexer": "ipython3",
   "version": "3.11.4"
  }
 },
 "nbformat": 4,
 "nbformat_minor": 2
}
